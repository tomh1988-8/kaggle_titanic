{
 "cells": [
  {
   "cell_type": "code",
   "execution_count": 1,
   "metadata": {},
   "outputs": [],
   "source": [
    "# Import necessary libraries\n",
    "import pandas as pd\n",
    "from sklearn.tree import DecisionTreeClassifier, export_text\n",
    "from sklearn.metrics import accuracy_score, classification_report, confusion_matrix, ConfusionMatrixDisplay\n",
    "from sklearn.model_selection import train_test_split\n",
    "import matplotlib.pyplot as plt\n",
    "import os\n",
    "from pathlib import Path\n",
    "from sklearn.metrics import confusion_matrix, ConfusionMatrixDisplay\n",
    "import matplotlib.pyplot as plt"
   ]
  },
  {
   "cell_type": "code",
   "execution_count": 2,
   "metadata": {},
   "outputs": [
    {
     "name": "stdout",
     "output_type": "stream",
     "text": [
      "Project Root: c:\\Users\\thomas.hunter\\Documents\\Python\\kaggle_titanic\n",
      "Train Data Head:\n",
      "    Survived  Pclass       Age  SibSp  Parch      Fare  Age_Missing  \\\n",
      "0         0       2 -0.565736      1      0 -0.502445            0   \n",
      "1         1       0  0.663861      1      0  0.786845            0   \n",
      "2         1       2 -0.258337      0      0 -0.488854            0   \n",
      "3         1       0  0.433312      1      0  0.420730            0   \n",
      "4         0       2  0.433312      0      0 -0.486337            0   \n",
      "\n",
      "   Cabin_Deck  Cabin_Missing  Embarked_Q  Embarked_S  Sex_male  Family_Size  \\\n",
      "0          -1              1           0           1         1            2   \n",
      "1           2              0           0           0         0            2   \n",
      "2          -1              1           0           1         0            1   \n",
      "3           2              0           0           1         0            2   \n",
      "4          -1              1           0           1         1            1   \n",
      "\n",
      "   Is_Alone  Fare_Per_Person  \n",
      "0         0        -0.251223  \n",
      "1         0         0.393423  \n",
      "2         1        -0.488854  \n",
      "3         0         0.210365  \n",
      "4         1        -0.486337  \n",
      "\n",
      "Test Data Head:\n",
      "    Pclass       Age  SibSp  Parch      Fare  Age_Missing  Cabin_Deck  \\\n",
      "0       2  0.394887      0      0 -0.490783            0          -1   \n",
      "1       2  1.355510      1      0 -0.507479            0          -1   \n",
      "2       1  2.508257      0      0 -0.453367            0          -1   \n",
      "3       2 -0.181487      0      0 -0.474005            0          -1   \n",
      "4       2 -0.565736      1      1 -0.401017            0          -1   \n",
      "\n",
      "   Cabin_Missing  Embarked_Q  Embarked_S  Sex_male  Family_Size  Is_Alone  \\\n",
      "0              1           1           0         1            1         1   \n",
      "1              1           0           1         0            2         0   \n",
      "2              1           1           0         1            1         1   \n",
      "3              1           0           1         1            1         1   \n",
      "4              1           0           1         0            3         0   \n",
      "\n",
      "   Fare_Per_Person  \n",
      "0        -0.490783  \n",
      "1        -0.253739  \n",
      "2        -0.453367  \n",
      "3        -0.474005  \n",
      "4        -0.133672  \n"
     ]
    }
   ],
   "source": [
    "# Set the root directory dynamically for Jupyter Notebook\n",
    "project_root = Path.cwd().parent  # Assuming notebook is in a \"Scripts\" subfolder\n",
    "print(\"Project Root:\", project_root)\n",
    "\n",
    "# Load the datasets\n",
    "train_data = pd.read_csv(project_root / \"data\" / \"preprocessed_train.csv\")\n",
    "test_data = pd.read_csv(project_root / \"data\" / \"preprocessed_test.csv\")\n",
    "\n",
    "# Inspect the loaded datasets\n",
    "print(\"Train Data Head:\\n\", train_data.head())\n",
    "print(\"\\nTest Data Head:\\n\", test_data.head())"
   ]
  },
  {
   "cell_type": "code",
   "execution_count": 3,
   "metadata": {},
   "outputs": [
    {
     "name": "stdout",
     "output_type": "stream",
     "text": [
      "X_train shape: (712, 14), X_val shape: (179, 14)\n",
      "y_train shape: (712,), y_val shape: (179,)\n"
     ]
    }
   ],
   "source": [
    "# Import the train_test_split function\n",
    "from sklearn.model_selection import train_test_split\n",
    "\n",
    "# Define features and target\n",
    "X = train_data.drop('Survived', axis=1)  # Drop the target column\n",
    "y = train_data['Survived']  # Target variable\n",
    "\n",
    "# Split into training and validation sets\n",
    "X_train, X_val, y_train, y_val = train_test_split(X, y, test_size=0.2, random_state=42)\n",
    "\n",
    "# Check the split\n",
    "print(f\"X_train shape: {X_train.shape}, X_val shape: {X_val.shape}\")\n",
    "print(f\"y_train shape: {y_train.shape}, y_val shape: {y_val.shape}\")\n"
   ]
  },
  {
   "cell_type": "code",
   "execution_count": 4,
   "metadata": {},
   "outputs": [],
   "source": [
    "from sklearn.tree import DecisionTreeClassifier\n",
    "\n",
    "# Train the Decision Tree Classifier\n",
    "dt_model = DecisionTreeClassifier(random_state=42, max_depth=5)  # Adjust max_depth for interpretability\n",
    "dt_model.fit(X_train, y_train)\n",
    "\n",
    "# Predict on Validation Data\n",
    "y_pred = dt_model.predict(X_val)"
   ]
  },
  {
   "cell_type": "code",
   "execution_count": 5,
   "metadata": {},
   "outputs": [
    {
     "name": "stdout",
     "output_type": "stream",
     "text": [
      "Decision Tree Accuracy: 0.7877094972067039\n",
      "\n",
      "Classification Report:\n",
      "              precision    recall  f1-score   support\n",
      "\n",
      "           0       0.76      0.93      0.84       105\n",
      "           1       0.86      0.58      0.69        74\n",
      "\n",
      "    accuracy                           0.79       179\n",
      "   macro avg       0.81      0.76      0.77       179\n",
      "weighted avg       0.80      0.79      0.78       179\n",
      "\n"
     ]
    }
   ],
   "source": [
    "# Evaluate Model Performance\n",
    "accuracy = accuracy_score(y_val, y_pred)\n",
    "print(\"Decision Tree Accuracy:\", accuracy)\n",
    "\n",
    "print(\"\\nClassification Report:\")\n",
    "print(classification_report(y_val, y_pred))"
   ]
  },
  {
   "cell_type": "code",
   "execution_count": 6,
   "metadata": {},
   "outputs": [
    {
     "data": {
      "image/png": "[encoded data removed]",
      "text/plain": [
       "<Figure size 640x480 with 2 Axes>"
      ]
     },
     "metadata": {},
     "output_type": "display_data"
    }
   ],
   "source": [
    "# Confusion Matrix\n",
    "cm = confusion_matrix(y_val, y_pred)\n",
    "ConfusionMatrixDisplay(confusion_matrix=cm, display_labels=dt_model.classes_).plot()\n",
    "plt.title(\"Confusion Matrix - Decision Tree\")\n",
    "plt.show()"
   ]
  },
  {
   "cell_type": "code",
   "execution_count": 7,
   "metadata": {},
   "outputs": [
    {
     "name": "stdout",
     "output_type": "stream",
     "text": [
      "            Feature  Importance\n",
      "10         Sex_male    0.521250\n",
      "0            Pclass    0.146052\n",
      "13  Fare_Per_Person    0.132097\n",
      "1               Age    0.094283\n",
      "6        Cabin_Deck    0.041751\n",
      "2             SibSp    0.041421\n",
      "4              Fare    0.020932\n",
      "11      Family_Size    0.002214\n",
      "3             Parch    0.000000\n",
      "5       Age_Missing    0.000000\n",
      "7     Cabin_Missing    0.000000\n",
      "8        Embarked_Q    0.000000\n",
      "9        Embarked_S    0.000000\n",
      "12         Is_Alone    0.000000\n"
     ]
    }
   ],
   "source": [
    "feature_importance = pd.DataFrame({\n",
    "    'Feature': X.columns,\n",
    "    'Importance': dt_model.feature_importances_\n",
    "}).sort_values(by='Importance', ascending=False)\n",
    "print(feature_importance)"
   ]
  }
 ],
 "metadata": {
  "kernelspec": {
   "display_name": "Python 3",
   "language": "python",
   "name": "python3"
  },
  "language_info": {
   "codemirror_mode": {
    "name": "ipython",
    "version": 3
   },
   "file_extension": ".py",
   "mimetype": "text/x-python",
   "name": "python",
   "nbconvert_exporter": "python",
   "pygments_lexer": "ipython3",
   "version": "3.10.6"
  }
 },
 "nbformat": 4,
 "nbformat_minor": 2
}
