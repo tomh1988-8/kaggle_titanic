{
 "cells": [
  {
   "cell_type": "code",
   "execution_count": null,
   "metadata": {},
   "outputs": [],
   "source": [
    "# Import necessary libraries\n",
    "import pandas as pd\n",
    "from sklearn.tree import DecisionTreeClassifier, export_text\n",
    "from sklearn.metrics import accuracy_score, classification_report, confusion_matrix, ConfusionMatrixDisplay\n",
    "from sklearn.model_selection import train_test_split\n",
    "import matplotlib.pyplot as plt\n",
    "import os\n",
    "from pathlib import Path\n",
    "from sklearn.metrics import confusion_matrix, ConfusionMatrixDisplay\n",
    "import matplotlib.pyplot as plt"
   ]
  },
  {
   "cell_type": "code",
   "execution_count": null,
   "metadata": {},
   "outputs": [],
   "source": [
    "# Set the root directory dynamically for Jupyter Notebook\n",
    "project_root = Path.cwd().parent  # Assuming notebook is in a \"Scripts\" subfolder\n",
    "print(\"Project Root:\", project_root)\n",
    "\n",
    "# Load the datasets\n",
    "train_data = pd.read_csv(project_root / \"data\" / \"preprocessed_train.csv\")\n",
    "test_data = pd.read_csv(project_root / \"data\" / \"preprocessed_test.csv\")\n",
    "\n",
    "# Inspect the loaded datasets\n",
    "print(\"Train Data Head:\\n\", train_data.head())\n",
    "print(\"\\nTest Data Head:\\n\", test_data.head())"
   ]
  },
  {
   "cell_type": "code",
   "execution_count": 10,
   "metadata": {},
   "outputs": [
    {
     "name": "stdout",
     "output_type": "stream",
     "text": [
      "X_train shape: (712, 12), X_val shape: (179, 12)\n",
      "y_train shape: (712,), y_val shape: (179,)\n"
     ]
    }
   ],
   "source": [
    "# Import the train_test_split function\n",
    "from sklearn.model_selection import train_test_split\n",
    "\n",
    "# Define features and target\n",
    "X = train_data.drop('Survived', axis=1)  # Drop the target column\n",
    "y = train_data['Survived']  # Target variable\n",
    "\n",
    "# Split into training and validation sets\n",
    "X_train, X_val, y_train, y_val = train_test_split(X, y, test_size=0.2, random_state=42)\n",
    "\n",
    "# Check the split\n",
    "print(f\"X_train shape: {X_train.shape}, X_val shape: {X_val.shape}\")\n",
    "print(f\"y_train shape: {y_train.shape}, y_val shape: {y_val.shape}\")\n"
   ]
  },
  {
   "cell_type": "code",
   "execution_count": 17,
   "metadata": {},
   "outputs": [],
   "source": [
    "from sklearn.tree import DecisionTreeClassifier\n",
    "\n",
    "# Train the Decision Tree Classifier\n",
    "dt_model = DecisionTreeClassifier(random_state=42, max_depth=5)  # Adjust max_depth for interpretability\n",
    "dt_model.fit(X_train, y_train)\n",
    "\n",
    "# Predict on Validation Data\n",
    "y_pred = dt_model.predict(X_val)"
   ]
  },
  {
   "cell_type": "code",
   "execution_count": 18,
   "metadata": {},
   "outputs": [
    {
     "name": "stdout",
     "output_type": "stream",
     "text": [
      "Decision Tree Accuracy: 0.7988826815642458\n",
      "\n",
      "Classification Report:\n",
      "              precision    recall  f1-score   support\n",
      "\n",
      "           0       0.79      0.90      0.84       105\n",
      "           1       0.83      0.65      0.73        74\n",
      "\n",
      "    accuracy                           0.80       179\n",
      "   macro avg       0.81      0.78      0.78       179\n",
      "weighted avg       0.80      0.80      0.79       179\n",
      "\n"
     ]
    }
   ],
   "source": [
    "# Evaluate Model Performance\n",
    "accuracy = accuracy_score(y_val, y_pred)\n",
    "print(\"Decision Tree Accuracy:\", accuracy)\n",
    "\n",
    "print(\"\\nClassification Report:\")\n",
    "print(classification_report(y_val, y_pred))"
   ]
  },
  {
   "cell_type": "code",
   "execution_count": 14,
   "metadata": {},
   "outputs": [
    {
     "data": {
      "image/png": "[encoded data removed]",
      "text/plain": [
       "<Figure size 640x480 with 2 Axes>"
      ]
     },
     "metadata": {},
     "output_type": "display_data"
    }
   ],
   "source": [
    "# Confusion Matrix\n",
    "cm = confusion_matrix(y_val, y_pred)\n",
    "ConfusionMatrixDisplay(confusion_matrix=cm, display_labels=dt_model.classes_).plot()\n",
    "plt.title(\"Confusion Matrix - Decision Tree\")\n",
    "plt.show()"
   ]
  },
  {
   "cell_type": "code",
   "execution_count": 19,
   "metadata": {},
   "outputs": [
    {
     "name": "stdout",
     "output_type": "stream",
     "text": [
      "          Feature  Importance\n",
      "10       Sex_male    0.531141\n",
      "0          Pclass    0.148823\n",
      "4            Fare    0.117243\n",
      "1             Age    0.099891\n",
      "6      Cabin_Deck    0.042544\n",
      "2           SibSp    0.042207\n",
      "9      Embarked_S    0.012737\n",
      "3           Parch    0.005414\n",
      "5     Age_Missing    0.000000\n",
      "7   Cabin_Missing    0.000000\n",
      "8      Embarked_Q    0.000000\n",
      "11    Family_Size    0.000000\n"
     ]
    }
   ],
   "source": [
    "feature_importance = pd.DataFrame({\n",
    "    'Feature': X.columns,\n",
    "    'Importance': dt_model.feature_importances_\n",
    "}).sort_values(by='Importance', ascending=False)\n",
    "print(feature_importance)"
   ]
  }
 ],
 "metadata": {
  "kernelspec": {
   "display_name": "Python 3",
   "language": "python",
   "name": "python3"
  },
  "language_info": {
   "codemirror_mode": {
    "name": "ipython",
    "version": 3
   },
   "file_extension": ".py",
   "mimetype": "text/x-python",
   "name": "python",
   "nbconvert_exporter": "python",
   "pygments_lexer": "ipython3",
   "version": "3.10.6"
  }
 },
 "nbformat": 4,
 "nbformat_minor": 2
}
