{
 "cells": [
  {
   "cell_type": "code",
   "execution_count": 4,
   "metadata": {},
   "outputs": [],
   "source": [
    "# Import necessary libraries\n",
    "import pandas as pd\n",
    "from sklearn.linear_model import LogisticRegression\n",
    "from sklearn.model_selection import train_test_split\n",
    "from sklearn.metrics import accuracy_score, classification_report\n",
    "import os\n",
    "from pathlib import Path\n",
    "from sklearn.metrics import confusion_matrix, ConfusionMatrixDisplay\n"
   ]
  },
  {
   "cell_type": "code",
   "execution_count": 5,
   "metadata": {},
   "outputs": [
    {
     "name": "stdout",
     "output_type": "stream",
     "text": [
      "Project Root: c:\\Users\\thomas.hunter\\Documents\\Python\\kaggle_titanic\n",
      "Train Data Head:\n",
      "    Survived  Pclass       Age  SibSp  Parch      Fare  Age_Missing  \\\n",
      "0         0       2 -0.565736      1      0 -0.502445            0   \n",
      "1         1       0  0.663861      1      0  0.786845            0   \n",
      "2         1       2 -0.258337      0      0 -0.488854            0   \n",
      "3         1       0  0.433312      1      0  0.420730            0   \n",
      "4         0       2  0.433312      0      0 -0.486337            0   \n",
      "\n",
      "   Cabin_Deck  Cabin_Missing  Embarked_Q  Embarked_S  Sex_male  Family_Size  \\\n",
      "0          -1              1           0           1         1            2   \n",
      "1           2              0           0           0         0            2   \n",
      "2          -1              1           0           1         0            1   \n",
      "3           2              0           0           1         0            2   \n",
      "4          -1              1           0           1         1            1   \n",
      "\n",
      "   Is_Alone  Fare_Per_Person  \n",
      "0         0        -0.251223  \n",
      "1         0         0.393423  \n",
      "2         1        -0.488854  \n",
      "3         0         0.210365  \n",
      "4         1        -0.486337  \n",
      "\n",
      "Test Data Head:\n",
      "    Pclass       Age  SibSp  Parch      Fare  Age_Missing  Cabin_Deck  \\\n",
      "0       2  0.394887      0      0 -0.490783            0          -1   \n",
      "1       2  1.355510      1      0 -0.507479            0          -1   \n",
      "2       1  2.508257      0      0 -0.453367            0          -1   \n",
      "3       2 -0.181487      0      0 -0.474005            0          -1   \n",
      "4       2 -0.565736      1      1 -0.401017            0          -1   \n",
      "\n",
      "   Cabin_Missing  Embarked_Q  Embarked_S  Sex_male  Family_Size  Is_Alone  \\\n",
      "0              1           1           0         1            1         1   \n",
      "1              1           0           1         0            2         0   \n",
      "2              1           1           0         1            1         1   \n",
      "3              1           0           1         1            1         1   \n",
      "4              1           0           1         0            3         0   \n",
      "\n",
      "   Fare_Per_Person  \n",
      "0        -0.490783  \n",
      "1        -0.253739  \n",
      "2        -0.453367  \n",
      "3        -0.474005  \n",
      "4        -0.133672  \n"
     ]
    }
   ],
   "source": [
    "# Set the root directory dynamically for Jupyter Notebook\n",
    "project_root = Path.cwd().parent  # Assuming notebook is in a \"Scripts\" subfolder\n",
    "print(\"Project Root:\", project_root)\n",
    "\n",
    "# Load the datasets\n",
    "train_data = pd.read_csv(project_root / \"data\" / \"preprocessed_train.csv\")\n",
    "test_data = pd.read_csv(project_root / \"data\" / \"preprocessed_test.csv\")\n",
    "\n",
    "# Inspect the loaded datasets\n",
    "print(\"Train Data Head:\\n\", train_data.head())\n",
    "print(\"\\nTest Data Head:\\n\", test_data.head())"
   ]
  },
  {
   "cell_type": "code",
   "execution_count": 6,
   "metadata": {},
   "outputs": [
    {
     "name": "stdout",
     "output_type": "stream",
     "text": [
      "Logistic Regression Accuracy: 0.7988826815642458\n",
      "Classification Report:\n",
      "               precision    recall  f1-score   support\n",
      "\n",
      "           0       0.81      0.86      0.83       105\n",
      "           1       0.78      0.72      0.75        74\n",
      "\n",
      "    accuracy                           0.80       179\n",
      "   macro avg       0.80      0.79      0.79       179\n",
      "weighted avg       0.80      0.80      0.80       179\n",
      "\n"
     ]
    }
   ],
   "source": [
    "# Define features and target\n",
    "X = train_data.drop('Survived', axis=1)\n",
    "y = train_data['Survived']\n",
    "\n",
    "# Train-test split\n",
    "X_train, X_val, y_train, y_val = train_test_split(X, y, test_size=0.2, random_state=42)\n",
    "\n",
    "# Train logistic regression model\n",
    "lr_model = LogisticRegression(random_state=42)\n",
    "lr_model.fit(X_train, y_train)\n",
    "\n",
    "# Make predictions\n",
    "y_pred = lr_model.predict(X_val)\n",
    "\n",
    "# Evaluate model\n",
    "print(\"Logistic Regression Accuracy:\", accuracy_score(y_val, y_pred))\n",
    "print(\"Classification Report:\\n\", classification_report(y_val, y_pred))"
   ]
  },
  {
   "cell_type": "code",
   "execution_count": 7,
   "metadata": {},
   "outputs": [
    {
     "data": {
      "text/plain": [
       "<sklearn.metrics._plot.confusion_matrix.ConfusionMatrixDisplay at 0x2852af47610>"
      ]
     },
     "execution_count": 7,
     "metadata": {},
     "output_type": "execute_result"
    },
    {
     "data": {
      "image/png": "[encoded data removed]",
      "text/plain": [
       "<Figure size 640x480 with 2 Axes>"
      ]
     },
     "metadata": {},
     "output_type": "display_data"
    }
   ],
   "source": [
    "# Examine false positives and false negatives using a confusion matrix\n",
    "cm = confusion_matrix(y_val, y_pred)\n",
    "ConfusionMatrixDisplay(cm).plot()"
   ]
  },
  {
   "cell_type": "code",
   "execution_count": 8,
   "metadata": {},
   "outputs": [
    {
     "name": "stdout",
     "output_type": "stream",
     "text": [
      "            Feature  Coefficient\n",
      "13  Fare_Per_Person     0.374586\n",
      "6        Cabin_Deck     0.130230\n",
      "5       Age_Missing     0.000000\n",
      "3             Parch    -0.009385\n",
      "8        Embarked_Q    -0.056180\n",
      "4              Fare    -0.123239\n",
      "7     Cabin_Missing    -0.144765\n",
      "2             SibSp    -0.213357\n",
      "11      Family_Size    -0.223214\n",
      "9        Embarked_S    -0.340051\n",
      "1               Age    -0.381826\n",
      "12         Is_Alone    -0.573366\n",
      "0            Pclass    -0.705020\n",
      "10         Sex_male    -2.527572\n"
     ]
    }
   ],
   "source": [
    "coef_df = pd.DataFrame({\n",
    "    'Feature': X.columns,\n",
    "    'Coefficient': lr_model.coef_[0]\n",
    "}).sort_values(by='Coefficient', ascending=False)\n",
    "print(coef_df)"
   ]
  },
  {
   "cell_type": "markdown",
   "metadata": {},
   "source": [
    "Key Observations\n",
    "Gender (Sex_male):\n",
    "\n",
    "This is the most significant predictor of survival. Women were far more likely to survive than men, aligning with historical accounts of \"women and children first.\"\n",
    "Class and Socio-Economic Status (Pclass, Fare, Cabin_Deck):\n",
    "\n",
    "First-class passengers and those paying higher fares were more likely to survive. This reflects the structural advantage of wealthier passengers during evacuation.\n",
    "Family Dynamics (Parch, Family_Size, SibSp):\n",
    "\n",
    "While traveling with small families or children provided a slight advantage, large family sizes or many siblings/spouses reduced survival odds.\n",
    "Age:\n",
    "\n",
    "Younger passengers had a higher survival rate, possibly due to rescue prioritization for children.\n",
    "Embarkation Point:\n",
    "\n",
    "Passengers embarking from Cherbourg (C) fared better than those from Southampton (S) or Queenstown (Q). This could reflect differences in socio-economic status among embarkation points.\n"
   ]
  }
 ],
 "metadata": {
  "kernelspec": {
   "display_name": "Python 3",
   "language": "python",
   "name": "python3"
  },
  "language_info": {
   "codemirror_mode": {
    "name": "ipython",
    "version": 3
   },
   "file_extension": ".py",
   "mimetype": "text/x-python",
   "name": "python",
   "nbconvert_exporter": "python",
   "pygments_lexer": "ipython3",
   "version": "3.10.6"
  }
 },
 "nbformat": 4,
 "nbformat_minor": 2
}
