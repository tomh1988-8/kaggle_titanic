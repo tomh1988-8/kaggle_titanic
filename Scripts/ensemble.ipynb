{
 "cells": [
  {
   "cell_type": "code",
   "execution_count": 9,
   "metadata": {},
   "outputs": [],
   "source": [
    "# Import required libraries\n",
    "import pandas as pd\n",
    "from sklearn.linear_model import LogisticRegression\n",
    "from sklearn.ensemble import RandomForestClassifier, GradientBoostingClassifier, VotingClassifier\n",
    "from sklearn.model_selection import train_test_split\n",
    "from sklearn.metrics import accuracy_score, classification_report, confusion_matrix, ConfusionMatrixDisplay\n",
    "from pathlib import Path\n",
    "import matplotlib.pyplot as plt\n",
    "\n",
    "# Enable inline plotting for Jupyter\n",
    "%matplotlib inline\n",
    "\n"
   ]
  },
  {
   "cell_type": "code",
   "execution_count": 10,
   "metadata": {},
   "outputs": [
    {
     "name": "stdout",
     "output_type": "stream",
     "text": [
      "Train Data Shape: (891, 15)\n",
      "Test Data Shape: (418, 14)\n",
      "Train Data Head:\n",
      "    Survived  Pclass       Age  SibSp  Parch      Fare  Age_Missing  \\\n",
      "0         0       2 -0.565736      1      0 -0.502445            0   \n",
      "1         1       0  0.663861      1      0  0.786845            0   \n",
      "2         1       2 -0.258337      0      0 -0.488854            0   \n",
      "3         1       0  0.433312      1      0  0.420730            0   \n",
      "4         0       2  0.433312      0      0 -0.486337            0   \n",
      "\n",
      "   Cabin_Deck  Cabin_Missing  Embarked_Q  Embarked_S  Sex_male  Family_Size  \\\n",
      "0          -1              1           0           1         1            2   \n",
      "1           2              0           0           0         0            2   \n",
      "2          -1              1           0           1         0            1   \n",
      "3           2              0           0           1         0            2   \n",
      "4          -1              1           0           1         1            1   \n",
      "\n",
      "   Is_Alone  Fare_Per_Person  \n",
      "0         0        -0.251223  \n",
      "1         0         0.393423  \n",
      "2         1        -0.488854  \n",
      "3         0         0.210365  \n",
      "4         1        -0.486337  \n",
      "\n",
      "Test Data Head:\n",
      "    Pclass       Age  SibSp  Parch      Fare  Age_Missing  Cabin_Deck  \\\n",
      "0       2  0.394887      0      0 -0.490783            0          -1   \n",
      "1       2  1.355510      1      0 -0.507479            0          -1   \n",
      "2       1  2.508257      0      0 -0.453367            0          -1   \n",
      "3       2 -0.181487      0      0 -0.474005            0          -1   \n",
      "4       2 -0.565736      1      1 -0.401017            0          -1   \n",
      "\n",
      "   Cabin_Missing  Embarked_Q  Embarked_S  Sex_male  Family_Size  Is_Alone  \\\n",
      "0              1           1           0         1            1         1   \n",
      "1              1           0           1         0            2         0   \n",
      "2              1           1           0         1            1         1   \n",
      "3              1           0           1         1            1         1   \n",
      "4              1           0           1         0            3         0   \n",
      "\n",
      "   Fare_Per_Person  \n",
      "0        -0.490783  \n",
      "1        -0.253739  \n",
      "2        -0.453367  \n",
      "3        -0.474005  \n",
      "4        -0.133672  \n"
     ]
    }
   ],
   "source": [
    "# Define the root directory\n",
    "project_root = Path.cwd().parent  # Adjust based on your folder structure\n",
    "\n",
    "# Load preprocessed datasets\n",
    "train_data = pd.read_csv(project_root / \"data\" / \"preprocessed_train.csv\")\n",
    "test_data = pd.read_csv(project_root / \"data\" / \"preprocessed_test.csv\")\n",
    "\n",
    "# Verify the data\n",
    "print(\"Train Data Shape:\", train_data.shape)\n",
    "print(\"Test Data Shape:\", test_data.shape)\n",
    "\n",
    "# Preview datasets\n",
    "print(\"Train Data Head:\\n\", train_data.head())\n",
    "print(\"\\nTest Data Head:\\n\", test_data.head())\n"
   ]
  },
  {
   "cell_type": "code",
   "execution_count": 11,
   "metadata": {},
   "outputs": [
    {
     "name": "stdout",
     "output_type": "stream",
     "text": [
      "X_train Shape: (712, 14), X_val Shape: (179, 14)\n",
      "y_train Shape: (712,), y_val Shape: (179,)\n"
     ]
    }
   ],
   "source": [
    "# Define features (X) and target (y)\n",
    "X = train_data.drop('Survived', axis=1)  # Features\n",
    "y = train_data['Survived']  # Target variable\n",
    "\n",
    "# Split the data into training and validation sets\n",
    "X_train, X_val, y_train, y_val = train_test_split(X, y, test_size=0.2, random_state=42)\n",
    "\n",
    "# Verify the splits\n",
    "print(f\"X_train Shape: {X_train.shape}, X_val Shape: {X_val.shape}\")\n",
    "print(f\"y_train Shape: {y_train.shape}, y_val Shape: {y_val.shape}\")\n",
    "\n"
   ]
  },
  {
   "cell_type": "code",
   "execution_count": 12,
   "metadata": {},
   "outputs": [],
   "source": [
    "# Initialize individual models\n",
    "log_reg = LogisticRegression(random_state=42)\n",
    "rand_forest = RandomForestClassifier(random_state=42, n_estimators=200, max_depth=10)\n",
    "grad_boost = GradientBoostingClassifier(random_state=42, n_estimators=100, learning_rate=0.1)\n",
    "\n",
    "# List of models\n",
    "estimators = [\n",
    "    ('Logistic Regression', log_reg),\n",
    "    ('Random Forest', rand_forest),\n",
    "    ('Gradient Boosting', grad_boost)\n",
    "]\n"
   ]
  },
  {
   "cell_type": "code",
   "execution_count": 13,
   "metadata": {},
   "outputs": [],
   "source": [
    "# Initialize the Voting Classifier\n",
    "voting_clf = VotingClassifier(estimators=estimators, voting='soft')\n"
   ]
  },
  {
   "cell_type": "code",
   "execution_count": 14,
   "metadata": {},
   "outputs": [
    {
     "name": "stdout",
     "output_type": "stream",
     "text": [
      "Ensemble Model Accuracy: 0.8268\n",
      "\n",
      "Classification Report:\n",
      "              precision    recall  f1-score   support\n",
      "\n",
      "           0       0.83      0.89      0.86       105\n",
      "           1       0.82      0.74      0.78        74\n",
      "\n",
      "    accuracy                           0.83       179\n",
      "   macro avg       0.83      0.81      0.82       179\n",
      "weighted avg       0.83      0.83      0.83       179\n",
      "\n"
     ]
    },
    {
     "data": {
      "image/png": "[encoded data removed]",
      "text/plain": [
       "<Figure size 640x480 with 2 Axes>"
      ]
     },
     "metadata": {},
     "output_type": "display_data"
    }
   ],
   "source": [
    "# Fit the Voting Classifier\n",
    "voting_clf.fit(X_train, y_train)\n",
    "\n",
    "# Predict on the validation set\n",
    "y_pred_ensemble = voting_clf.predict(X_val)\n",
    "\n",
    "# Evaluate the ensemble model\n",
    "accuracy = accuracy_score(y_val, y_pred_ensemble)\n",
    "print(f\"Ensemble Model Accuracy: {accuracy:.4f}\")\n",
    "\n",
    "# Classification Report\n",
    "print(\"\\nClassification Report:\")\n",
    "print(classification_report(y_val, y_pred_ensemble))\n",
    "\n",
    "# Confusion Matrix\n",
    "cm = confusion_matrix(y_val, y_pred_ensemble)\n",
    "ConfusionMatrixDisplay(confusion_matrix=cm, display_labels=voting_clf.classes_).plot()\n",
    "plt.title(\"Confusion Matrix - Ensemble Model\")\n",
    "plt.show()\n"
   ]
  },
  {
   "cell_type": "code",
   "execution_count": 15,
   "metadata": {},
   "outputs": [
    {
     "name": "stdout",
     "output_type": "stream",
     "text": [
      "Logistic Regression Accuracy: 0.7989\n",
      "Random Forest Accuracy: 0.8101\n",
      "Gradient Boosting Accuracy: 0.8324\n"
     ]
    }
   ],
   "source": [
    "# Compare individual model performance\n",
    "for name, model in estimators:\n",
    "    model.fit(X_train, y_train)\n",
    "    y_pred = model.predict(X_val)\n",
    "    acc = accuracy_score(y_val, y_pred)\n",
    "    print(f\"{name} Accuracy: {acc:.4f}\")\n"
   ]
  },
  {
   "cell_type": "code",
   "execution_count": 16,
   "metadata": {},
   "outputs": [
    {
     "name": "stdout",
     "output_type": "stream",
     "text": [
      "Ensemble submission file saved at: c:\\Users\\thomas.hunter\\Documents\\Python\\kaggle_titanic\\submission_ensemble.csv\n"
     ]
    }
   ],
   "source": [
    "# Predict on the test dataset\n",
    "test_predictions = voting_clf.predict(test_data)\n",
    "\n",
    "# Reload the original test data to retrieve PassengerId\n",
    "original_test_data = pd.read_csv(project_root / \"data\" / \"test.csv\")\n",
    "\n",
    "# Create the submission DataFrame\n",
    "submission = pd.DataFrame({\n",
    "    'PassengerId': original_test_data['PassengerId'],\n",
    "    'Survived': test_predictions\n",
    "})\n",
    "\n",
    "# Save the submission file\n",
    "submission_file = project_root / \"submission_ensemble.csv\"\n",
    "submission.to_csv(submission_file, index=False)\n",
    "\n",
    "print(f\"Ensemble submission file saved at: {submission_file}\")\n"
   ]
  }
 ],
 "metadata": {
  "kernelspec": {
   "display_name": "Python 3",
   "language": "python",
   "name": "python3"
  },
  "language_info": {
   "codemirror_mode": {
    "name": "ipython",
    "version": 3
   },
   "file_extension": ".py",
   "mimetype": "text/x-python",
   "name": "python",
   "nbconvert_exporter": "python",
   "pygments_lexer": "ipython3",
   "version": "3.10.6"
  }
 },
 "nbformat": 4,
 "nbformat_minor": 2
}
